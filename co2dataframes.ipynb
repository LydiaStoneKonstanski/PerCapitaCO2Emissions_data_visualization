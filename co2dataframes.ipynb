{
 "cells": [
  {
   "cell_type": "raw",
   "id": "0bde851a-c6ad-4cc9-87e0-7d4f3467d700",
   "metadata": {},
   "source": [
    "!pip install pandasql"
   ]
  },
  {
   "cell_type": "code",
   "execution_count": 28,
   "id": "9c132d25-85ea-47be-a2c4-81d630a8b6c8",
   "metadata": {},
   "outputs": [],
   "source": [
    "import pandas as pd\n",
    "import requests\n",
    "import json\n",
    "from pandasql import sqldf"
   ]
  },
  {
   "cell_type": "code",
   "execution_count": 29,
   "id": "95d67854-9ba0-45b5-bb17-43c2e3d21cd8",
   "metadata": {},
   "outputs": [],
   "source": [
    "capita1 = pd.read_csv('/Users/lydia/Projects/PerCapitaCO2Emissions_data_visualization/co-emissions-per-capita.csv')"
   ]
  },
  {
   "cell_type": "code",
   "execution_count": 30,
   "id": "a25bcdd0-1036-45bb-a582-de5857aebe2f",
   "metadata": {},
   "outputs": [],
   "source": [
    "capita1.columns=['Country' if x== 'Entity' else 'Per-Capita CO₂ emissions' if x== 'Annual CO₂ emissions' else x for x in capita.columns]  "
   ]
  },
  {
   "cell_type": "code",
   "execution_count": 32,
   "id": "51624da3-2c38-4565-91cc-bb29982e99fc",
   "metadata": {},
   "outputs": [],
   "source": [
    "capita = capita1.filter(['Country', 'Year', 'Annual CO₂ emissions (per capita)'], axis=1)"
   ]
  },
  {
   "cell_type": "code",
   "execution_count": 33,
   "id": "a8812255-a2df-4ff8-9d6a-deaa51a7e9fc",
   "metadata": {},
   "outputs": [
    {
     "data": {
      "text/html": [
       "<div>\n",
       "<style scoped>\n",
       "    .dataframe tbody tr th:only-of-type {\n",
       "        vertical-align: middle;\n",
       "    }\n",
       "\n",
       "    .dataframe tbody tr th {\n",
       "        vertical-align: top;\n",
       "    }\n",
       "\n",
       "    .dataframe thead th {\n",
       "        text-align: right;\n",
       "    }\n",
       "</style>\n",
       "<table border=\"1\" class=\"dataframe\">\n",
       "  <thead>\n",
       "    <tr style=\"text-align: right;\">\n",
       "      <th></th>\n",
       "      <th>Country</th>\n",
       "      <th>Year</th>\n",
       "      <th>Annual CO₂ emissions (per capita)</th>\n",
       "    </tr>\n",
       "  </thead>\n",
       "  <tbody>\n",
       "    <tr>\n",
       "      <th>0</th>\n",
       "      <td>Afghanistan</td>\n",
       "      <td>1949</td>\n",
       "      <td>0.001992</td>\n",
       "    </tr>\n",
       "    <tr>\n",
       "      <th>1</th>\n",
       "      <td>Afghanistan</td>\n",
       "      <td>1950</td>\n",
       "      <td>0.011266</td>\n",
       "    </tr>\n",
       "    <tr>\n",
       "      <th>2</th>\n",
       "      <td>Afghanistan</td>\n",
       "      <td>1951</td>\n",
       "      <td>0.012098</td>\n",
       "    </tr>\n",
       "    <tr>\n",
       "      <th>3</th>\n",
       "      <td>Afghanistan</td>\n",
       "      <td>1952</td>\n",
       "      <td>0.011946</td>\n",
       "    </tr>\n",
       "    <tr>\n",
       "      <th>4</th>\n",
       "      <td>Afghanistan</td>\n",
       "      <td>1953</td>\n",
       "      <td>0.013685</td>\n",
       "    </tr>\n",
       "  </tbody>\n",
       "</table>\n",
       "</div>"
      ],
      "text/plain": [
       "       Country  Year  Annual CO₂ emissions (per capita)\n",
       "0  Afghanistan  1949                           0.001992\n",
       "1  Afghanistan  1950                           0.011266\n",
       "2  Afghanistan  1951                           0.012098\n",
       "3  Afghanistan  1952                           0.011946\n",
       "4  Afghanistan  1953                           0.013685"
      ]
     },
     "execution_count": 33,
     "metadata": {},
     "output_type": "execute_result"
    }
   ],
   "source": [
    "capita.head()"
   ]
  },
  {
   "cell_type": "code",
   "execution_count": 36,
   "id": "764786ef-457a-4044-a467-f5c343190d09",
   "metadata": {},
   "outputs": [],
   "source": [
    "total_country1 = pd.read_csv('/Users/lydia/Projects/PerCapitaCO2Emissions_data_visualization/annual-co2-emissions-per-country.csv')"
   ]
  },
  {
   "cell_type": "code",
   "execution_count": 38,
   "id": "13aa20c7-3478-47b4-992a-174159d9e9d0",
   "metadata": {},
   "outputs": [
    {
     "data": {
      "text/html": [
       "<div>\n",
       "<style scoped>\n",
       "    .dataframe tbody tr th:only-of-type {\n",
       "        vertical-align: middle;\n",
       "    }\n",
       "\n",
       "    .dataframe tbody tr th {\n",
       "        vertical-align: top;\n",
       "    }\n",
       "\n",
       "    .dataframe thead th {\n",
       "        text-align: right;\n",
       "    }\n",
       "</style>\n",
       "<table border=\"1\" class=\"dataframe\">\n",
       "  <thead>\n",
       "    <tr style=\"text-align: right;\">\n",
       "      <th></th>\n",
       "      <th>Entity</th>\n",
       "      <th>Code</th>\n",
       "      <th>Year</th>\n",
       "      <th>Annual CO₂ emissions</th>\n",
       "    </tr>\n",
       "  </thead>\n",
       "  <tbody>\n",
       "    <tr>\n",
       "      <th>0</th>\n",
       "      <td>Afghanistan</td>\n",
       "      <td>AFG</td>\n",
       "      <td>1949</td>\n",
       "      <td>14656.0</td>\n",
       "    </tr>\n",
       "    <tr>\n",
       "      <th>1</th>\n",
       "      <td>Afghanistan</td>\n",
       "      <td>AFG</td>\n",
       "      <td>1950</td>\n",
       "      <td>84272.0</td>\n",
       "    </tr>\n",
       "    <tr>\n",
       "      <th>2</th>\n",
       "      <td>Afghanistan</td>\n",
       "      <td>AFG</td>\n",
       "      <td>1951</td>\n",
       "      <td>91600.0</td>\n",
       "    </tr>\n",
       "    <tr>\n",
       "      <th>3</th>\n",
       "      <td>Afghanistan</td>\n",
       "      <td>AFG</td>\n",
       "      <td>1952</td>\n",
       "      <td>91600.0</td>\n",
       "    </tr>\n",
       "    <tr>\n",
       "      <th>4</th>\n",
       "      <td>Afghanistan</td>\n",
       "      <td>AFG</td>\n",
       "      <td>1953</td>\n",
       "      <td>106256.0</td>\n",
       "    </tr>\n",
       "  </tbody>\n",
       "</table>\n",
       "</div>"
      ],
      "text/plain": [
       "        Entity Code  Year  Annual CO₂ emissions\n",
       "0  Afghanistan  AFG  1949               14656.0\n",
       "1  Afghanistan  AFG  1950               84272.0\n",
       "2  Afghanistan  AFG  1951               91600.0\n",
       "3  Afghanistan  AFG  1952               91600.0\n",
       "4  Afghanistan  AFG  1953              106256.0"
      ]
     },
     "execution_count": 38,
     "metadata": {},
     "output_type": "execute_result"
    }
   ],
   "source": [
    "total_country1.head()"
   ]
  },
  {
   "cell_type": "code",
   "execution_count": 42,
   "id": "9d8c50a4-542f-46d1-92d0-ed445fb6196c",
   "metadata": {},
   "outputs": [],
   "source": [
    "total_country1.columns=['Country' if x== 'Entity' else x for x in total_country1.columns]  "
   ]
  },
  {
   "cell_type": "code",
   "execution_count": 45,
   "id": "6602ecc9-7a42-41ee-9972-324387d78722",
   "metadata": {},
   "outputs": [],
   "source": [
    "total_country = total_country1.filter(['Country', 'Year', 'Annual CO₂ emissions'], axis=1)"
   ]
  },
  {
   "cell_type": "code",
   "execution_count": 46,
   "id": "b946ad17-7c62-411f-9a00-2c650d8afb65",
   "metadata": {},
   "outputs": [
    {
     "data": {
      "text/html": [
       "<div>\n",
       "<style scoped>\n",
       "    .dataframe tbody tr th:only-of-type {\n",
       "        vertical-align: middle;\n",
       "    }\n",
       "\n",
       "    .dataframe tbody tr th {\n",
       "        vertical-align: top;\n",
       "    }\n",
       "\n",
       "    .dataframe thead th {\n",
       "        text-align: right;\n",
       "    }\n",
       "</style>\n",
       "<table border=\"1\" class=\"dataframe\">\n",
       "  <thead>\n",
       "    <tr style=\"text-align: right;\">\n",
       "      <th></th>\n",
       "      <th>Country</th>\n",
       "      <th>Year</th>\n",
       "      <th>Annual CO₂ emissions</th>\n",
       "    </tr>\n",
       "  </thead>\n",
       "  <tbody>\n",
       "    <tr>\n",
       "      <th>0</th>\n",
       "      <td>Afghanistan</td>\n",
       "      <td>1949</td>\n",
       "      <td>14656.0</td>\n",
       "    </tr>\n",
       "    <tr>\n",
       "      <th>1</th>\n",
       "      <td>Afghanistan</td>\n",
       "      <td>1950</td>\n",
       "      <td>84272.0</td>\n",
       "    </tr>\n",
       "    <tr>\n",
       "      <th>2</th>\n",
       "      <td>Afghanistan</td>\n",
       "      <td>1951</td>\n",
       "      <td>91600.0</td>\n",
       "    </tr>\n",
       "    <tr>\n",
       "      <th>3</th>\n",
       "      <td>Afghanistan</td>\n",
       "      <td>1952</td>\n",
       "      <td>91600.0</td>\n",
       "    </tr>\n",
       "    <tr>\n",
       "      <th>4</th>\n",
       "      <td>Afghanistan</td>\n",
       "      <td>1953</td>\n",
       "      <td>106256.0</td>\n",
       "    </tr>\n",
       "  </tbody>\n",
       "</table>\n",
       "</div>"
      ],
      "text/plain": [
       "       Country  Year  Annual CO₂ emissions\n",
       "0  Afghanistan  1949               14656.0\n",
       "1  Afghanistan  1950               84272.0\n",
       "2  Afghanistan  1951               91600.0\n",
       "3  Afghanistan  1952               91600.0\n",
       "4  Afghanistan  1953              106256.0"
      ]
     },
     "execution_count": 46,
     "metadata": {},
     "output_type": "execute_result"
    }
   ],
   "source": [
    "total_country.head()"
   ]
  },
  {
   "cell_type": "code",
   "execution_count": 47,
   "id": "7c4c323a-d871-4779-b993-52810aa6a504",
   "metadata": {},
   "outputs": [],
   "source": [
    "gdp1 = pd.read_csv('/Users/lydia/Projects/PerCapitaCO2Emissions_data_visualization/API_NY.GDP.MKTP.CD_DS2_en_csv_v2_26/API_NY.GDP.MKTP.CD_DS2_en_csv_v2_26.csv', skiprows = range(0,3))"
   ]
  },
  {
   "cell_type": "code",
   "execution_count": 55,
   "id": "3dceae35-3fb8-41ce-a6f4-0a97a3c56b93",
   "metadata": {},
   "outputs": [],
   "source": [
    "gdp = gdp1.filter(['Country Name', '2021', '2022'], axis=1)"
   ]
  },
  {
   "cell_type": "code",
   "execution_count": 56,
   "id": "2ced42ba-b902-4e5e-a2d8-76f058dec770",
   "metadata": {},
   "outputs": [],
   "source": [
    "gdp.rename(columns={'2021':'gdp 2021', '2022': 'gdp 2022'}, inplace=True)"
   ]
  },
  {
   "cell_type": "code",
   "execution_count": 57,
   "id": "a1d4455b-60d3-4387-ae60-c2b92a032231",
   "metadata": {},
   "outputs": [
    {
     "data": {
      "text/html": [
       "<div>\n",
       "<style scoped>\n",
       "    .dataframe tbody tr th:only-of-type {\n",
       "        vertical-align: middle;\n",
       "    }\n",
       "\n",
       "    .dataframe tbody tr th {\n",
       "        vertical-align: top;\n",
       "    }\n",
       "\n",
       "    .dataframe thead th {\n",
       "        text-align: right;\n",
       "    }\n",
       "</style>\n",
       "<table border=\"1\" class=\"dataframe\">\n",
       "  <thead>\n",
       "    <tr style=\"text-align: right;\">\n",
       "      <th></th>\n",
       "      <th>Country Name</th>\n",
       "      <th>gdp 2021</th>\n",
       "      <th>gdp 2022</th>\n",
       "    </tr>\n",
       "  </thead>\n",
       "  <tbody>\n",
       "    <tr>\n",
       "      <th>0</th>\n",
       "      <td>Aruba</td>\n",
       "      <td>3.103184e+09</td>\n",
       "      <td>3.544708e+09</td>\n",
       "    </tr>\n",
       "    <tr>\n",
       "      <th>1</th>\n",
       "      <td>Africa Eastern and Southern</td>\n",
       "      <td>1.086531e+12</td>\n",
       "      <td>1.185138e+12</td>\n",
       "    </tr>\n",
       "    <tr>\n",
       "      <th>2</th>\n",
       "      <td>Afghanistan</td>\n",
       "      <td>1.426650e+10</td>\n",
       "      <td>NaN</td>\n",
       "    </tr>\n",
       "    <tr>\n",
       "      <th>3</th>\n",
       "      <td>Africa Western and Central</td>\n",
       "      <td>8.449275e+11</td>\n",
       "      <td>8.753937e+11</td>\n",
       "    </tr>\n",
       "    <tr>\n",
       "      <th>4</th>\n",
       "      <td>Angola</td>\n",
       "      <td>6.650513e+10</td>\n",
       "      <td>1.067828e+11</td>\n",
       "    </tr>\n",
       "  </tbody>\n",
       "</table>\n",
       "</div>"
      ],
      "text/plain": [
       "                  Country Name      gdp 2021      gdp 2022\n",
       "0                        Aruba  3.103184e+09  3.544708e+09\n",
       "1  Africa Eastern and Southern  1.086531e+12  1.185138e+12\n",
       "2                  Afghanistan  1.426650e+10           NaN\n",
       "3   Africa Western and Central  8.449275e+11  8.753937e+11\n",
       "4                       Angola  6.650513e+10  1.067828e+11"
      ]
     },
     "execution_count": 57,
     "metadata": {},
     "output_type": "execute_result"
    }
   ],
   "source": [
    "gdp.head()"
   ]
  },
  {
   "cell_type": "code",
   "execution_count": 58,
   "id": "375dbec8-4b3c-4bd2-8415-1d420dae8ae6",
   "metadata": {},
   "outputs": [],
   "source": [
    "pop1 = pd.read_csv('/Users/lydia/Projects/PerCapitaCO2Emissions_data_visualization/API_SP.POP.TOTL_DS2_en_csv_v2_84031/API_SP.POP.TOTL_DS2_en_csv_v2_84031.csv', skiprows = range(0,3))"
   ]
  },
  {
   "cell_type": "code",
   "execution_count": 59,
   "id": "56d348f1-0f6e-4481-93a6-82048029b2a1",
   "metadata": {},
   "outputs": [],
   "source": [
    "pop = pop1.filter(['Country Name', '2021', '2022'], axis=1)"
   ]
  },
  {
   "cell_type": "code",
   "execution_count": 60,
   "id": "0d80bb5d-1ca4-4873-a9f4-732160437bcf",
   "metadata": {},
   "outputs": [],
   "source": [
    "pop.rename(columns={'2021':'pop 2021', '2022': 'pop 2022'}, inplace=True)"
   ]
  },
  {
   "cell_type": "code",
   "execution_count": 61,
   "id": "6dce60d1-3885-4804-b7be-5ff4f24467de",
   "metadata": {},
   "outputs": [
    {
     "data": {
      "text/html": [
       "<div>\n",
       "<style scoped>\n",
       "    .dataframe tbody tr th:only-of-type {\n",
       "        vertical-align: middle;\n",
       "    }\n",
       "\n",
       "    .dataframe tbody tr th {\n",
       "        vertical-align: top;\n",
       "    }\n",
       "\n",
       "    .dataframe thead th {\n",
       "        text-align: right;\n",
       "    }\n",
       "</style>\n",
       "<table border=\"1\" class=\"dataframe\">\n",
       "  <thead>\n",
       "    <tr style=\"text-align: right;\">\n",
       "      <th></th>\n",
       "      <th>Country Name</th>\n",
       "      <th>pop 2021</th>\n",
       "      <th>pop 2022</th>\n",
       "    </tr>\n",
       "  </thead>\n",
       "  <tbody>\n",
       "    <tr>\n",
       "      <th>0</th>\n",
       "      <td>Aruba</td>\n",
       "      <td>106537.0</td>\n",
       "      <td>106445.0</td>\n",
       "    </tr>\n",
       "    <tr>\n",
       "      <th>1</th>\n",
       "      <td>Africa Eastern and Southern</td>\n",
       "      <td>702977106.0</td>\n",
       "      <td>720859132.0</td>\n",
       "    </tr>\n",
       "    <tr>\n",
       "      <th>2</th>\n",
       "      <td>Afghanistan</td>\n",
       "      <td>40099462.0</td>\n",
       "      <td>41128771.0</td>\n",
       "    </tr>\n",
       "    <tr>\n",
       "      <th>3</th>\n",
       "      <td>Africa Western and Central</td>\n",
       "      <td>478185907.0</td>\n",
       "      <td>490330870.0</td>\n",
       "    </tr>\n",
       "    <tr>\n",
       "      <th>4</th>\n",
       "      <td>Angola</td>\n",
       "      <td>34503774.0</td>\n",
       "      <td>35588987.0</td>\n",
       "    </tr>\n",
       "  </tbody>\n",
       "</table>\n",
       "</div>"
      ],
      "text/plain": [
       "                  Country Name     pop 2021     pop 2022\n",
       "0                        Aruba     106537.0     106445.0\n",
       "1  Africa Eastern and Southern  702977106.0  720859132.0\n",
       "2                  Afghanistan   40099462.0   41128771.0\n",
       "3   Africa Western and Central  478185907.0  490330870.0\n",
       "4                       Angola   34503774.0   35588987.0"
      ]
     },
     "execution_count": 61,
     "metadata": {},
     "output_type": "execute_result"
    }
   ],
   "source": [
    "pop.head()"
   ]
  },
  {
   "cell_type": "code",
   "execution_count": null,
   "id": "1bc59f56-8385-40db-b251-1567728f575e",
   "metadata": {},
   "outputs": [],
   "source": []
  }
 ],
 "metadata": {
  "kernelspec": {
   "display_name": "Python 3 (ipykernel)",
   "language": "python",
   "name": "python3"
  },
  "language_info": {
   "codemirror_mode": {
    "name": "ipython",
    "version": 3
   },
   "file_extension": ".py",
   "mimetype": "text/x-python",
   "name": "python",
   "nbconvert_exporter": "python",
   "pygments_lexer": "ipython3",
   "version": "3.12.2"
  }
 },
 "nbformat": 4,
 "nbformat_minor": 5
}
