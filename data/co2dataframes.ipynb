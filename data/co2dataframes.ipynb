{
 "cells": [
  {
   "cell_type": "code",
   "execution_count": 42,
   "id": "9c132d25-85ea-47be-a2c4-81d630a8b6c8",
   "metadata": {},
   "outputs": [],
   "source": [
    "import pandas as pd\n",
    "from numpy import int64\n",
    "import requests\n",
    "import json\n",
    "from pathlib import Path\n",
    "#from pandasql import sqldf"
   ]
  },
  {
   "cell_type": "markdown",
   "id": "c0793c97-26be-454f-962d-5a15a0d24d41",
   "metadata": {},
   "source": [
    "# Cleaning Data to Construct the DataSet Needed for the Visualizing CO2 Emissions Project<br>\n",
    "-- Import software packages and read in CSVs. Although these data sets are technically available via API call, I emailed with both entities, and they requested since the sets are relatively small that I use CSVs. <br>\n",
    "-- On the Per Capita CO2 csv I use a list comprehension to rename \"Entity\" to \"Country\" at the head of series one, and \"Annual CO2 emissions (per capita)\" in series 3 for the sake of clarity. I also filter out the country code for now. <br>\n",
    "-- I repeat the process for the co2 emissions totals as well."
   ]
  },
  {
   "cell_type": "code",
   "execution_count": 43,
   "id": "95d67854-9ba0-45b5-bb17-43c2e3d21cd8",
   "metadata": {},
   "outputs": [],
   "source": [
    "capita = pd.read_csv('/Users/lydia/Projects/PerCapitaCO2Emissions_data_visualization/data/co-emissions-per-capita.csv')"
   ]
  },
  {
   "cell_type": "code",
   "execution_count": 44,
   "id": "a25bcdd0-1036-45bb-a582-de5857aebe2f",
   "metadata": {},
   "outputs": [],
   "source": [
    "capita.columns=['Country' if x== 'Entity' else 'Per-Capita CO₂ emissions' if x== 'Annual CO₂ emissions' else x for x in capita.columns]  "
   ]
  },
  {
   "cell_type": "code",
   "execution_count": 45,
   "id": "51624da3-2c38-4565-91cc-bb29982e99fc",
   "metadata": {},
   "outputs": [],
   "source": [
    "capita = capita.filter(['Country', 'Year', 'Annual CO₂ emissions (per capita)'], axis=1)"
   ]
  },
  {
   "cell_type": "code",
   "execution_count": 46,
   "id": "a8812255-a2df-4ff8-9d6a-deaa51a7e9fc",
   "metadata": {},
   "outputs": [
    {
     "data": {
      "text/html": [
       "<div>\n",
       "<style scoped>\n",
       "    .dataframe tbody tr th:only-of-type {\n",
       "        vertical-align: middle;\n",
       "    }\n",
       "\n",
       "    .dataframe tbody tr th {\n",
       "        vertical-align: top;\n",
       "    }\n",
       "\n",
       "    .dataframe thead th {\n",
       "        text-align: right;\n",
       "    }\n",
       "</style>\n",
       "<table border=\"1\" class=\"dataframe\">\n",
       "  <thead>\n",
       "    <tr style=\"text-align: right;\">\n",
       "      <th></th>\n",
       "      <th>Country</th>\n",
       "      <th>Year</th>\n",
       "      <th>Annual CO₂ emissions (per capita)</th>\n",
       "    </tr>\n",
       "  </thead>\n",
       "  <tbody>\n",
       "    <tr>\n",
       "      <th>0</th>\n",
       "      <td>Afghanistan</td>\n",
       "      <td>1949</td>\n",
       "      <td>0.001992</td>\n",
       "    </tr>\n",
       "    <tr>\n",
       "      <th>1</th>\n",
       "      <td>Afghanistan</td>\n",
       "      <td>1950</td>\n",
       "      <td>0.011266</td>\n",
       "    </tr>\n",
       "    <tr>\n",
       "      <th>2</th>\n",
       "      <td>Afghanistan</td>\n",
       "      <td>1951</td>\n",
       "      <td>0.012098</td>\n",
       "    </tr>\n",
       "    <tr>\n",
       "      <th>3</th>\n",
       "      <td>Afghanistan</td>\n",
       "      <td>1952</td>\n",
       "      <td>0.011946</td>\n",
       "    </tr>\n",
       "    <tr>\n",
       "      <th>4</th>\n",
       "      <td>Afghanistan</td>\n",
       "      <td>1953</td>\n",
       "      <td>0.013685</td>\n",
       "    </tr>\n",
       "  </tbody>\n",
       "</table>\n",
       "</div>"
      ],
      "text/plain": [
       "       Country  Year  Annual CO₂ emissions (per capita)\n",
       "0  Afghanistan  1949                           0.001992\n",
       "1  Afghanistan  1950                           0.011266\n",
       "2  Afghanistan  1951                           0.012098\n",
       "3  Afghanistan  1952                           0.011946\n",
       "4  Afghanistan  1953                           0.013685"
      ]
     },
     "execution_count": 46,
     "metadata": {},
     "output_type": "execute_result"
    }
   ],
   "source": [
    "capita.head()"
   ]
  },
  {
   "cell_type": "code",
   "execution_count": 47,
   "id": "764786ef-457a-4044-a467-f5c343190d09",
   "metadata": {},
   "outputs": [],
   "source": [
    "total_country = pd.read_csv('/Users/lydia/Projects/PerCapitaCO2Emissions_data_visualization/data/annual-co2-emissions-per-country.csv')"
   ]
  },
  {
   "cell_type": "code",
   "execution_count": 48,
   "id": "9d8c50a4-542f-46d1-92d0-ed445fb6196c",
   "metadata": {},
   "outputs": [],
   "source": [
    "total_country.columns=['Country' if x== 'Entity' else x for x in total_country.columns]  "
   ]
  },
  {
   "cell_type": "code",
   "execution_count": 49,
   "id": "6602ecc9-7a42-41ee-9972-324387d78722",
   "metadata": {},
   "outputs": [],
   "source": [
    "total_country = total_country.filter(['Country', 'Year', 'Annual CO₂ emissions'], axis=1)"
   ]
  },
  {
   "cell_type": "code",
   "execution_count": 50,
   "id": "b946ad17-7c62-411f-9a00-2c650d8afb65",
   "metadata": {},
   "outputs": [
    {
     "data": {
      "text/html": [
       "<div>\n",
       "<style scoped>\n",
       "    .dataframe tbody tr th:only-of-type {\n",
       "        vertical-align: middle;\n",
       "    }\n",
       "\n",
       "    .dataframe tbody tr th {\n",
       "        vertical-align: top;\n",
       "    }\n",
       "\n",
       "    .dataframe thead th {\n",
       "        text-align: right;\n",
       "    }\n",
       "</style>\n",
       "<table border=\"1\" class=\"dataframe\">\n",
       "  <thead>\n",
       "    <tr style=\"text-align: right;\">\n",
       "      <th></th>\n",
       "      <th>Country</th>\n",
       "      <th>Year</th>\n",
       "      <th>Annual CO₂ emissions</th>\n",
       "    </tr>\n",
       "  </thead>\n",
       "  <tbody>\n",
       "    <tr>\n",
       "      <th>0</th>\n",
       "      <td>Afghanistan</td>\n",
       "      <td>1949</td>\n",
       "      <td>14656.0</td>\n",
       "    </tr>\n",
       "    <tr>\n",
       "      <th>1</th>\n",
       "      <td>Afghanistan</td>\n",
       "      <td>1950</td>\n",
       "      <td>84272.0</td>\n",
       "    </tr>\n",
       "    <tr>\n",
       "      <th>2</th>\n",
       "      <td>Afghanistan</td>\n",
       "      <td>1951</td>\n",
       "      <td>91600.0</td>\n",
       "    </tr>\n",
       "    <tr>\n",
       "      <th>3</th>\n",
       "      <td>Afghanistan</td>\n",
       "      <td>1952</td>\n",
       "      <td>91600.0</td>\n",
       "    </tr>\n",
       "    <tr>\n",
       "      <th>4</th>\n",
       "      <td>Afghanistan</td>\n",
       "      <td>1953</td>\n",
       "      <td>106256.0</td>\n",
       "    </tr>\n",
       "  </tbody>\n",
       "</table>\n",
       "</div>"
      ],
      "text/plain": [
       "       Country  Year  Annual CO₂ emissions\n",
       "0  Afghanistan  1949               14656.0\n",
       "1  Afghanistan  1950               84272.0\n",
       "2  Afghanistan  1951               91600.0\n",
       "3  Afghanistan  1952               91600.0\n",
       "4  Afghanistan  1953              106256.0"
      ]
     },
     "execution_count": 50,
     "metadata": {},
     "output_type": "execute_result"
    }
   ],
   "source": [
    "total_country.head()"
   ]
  },
  {
   "cell_type": "markdown",
   "id": "8f614798-f80b-4908-bb8c-518c7bae74df",
   "metadata": {},
   "source": [
    "-- Next I combine the two sets. The illustrations will be based on the per capita numbers, but I will need the totals for context. "
   ]
  },
  {
   "cell_type": "code",
   "execution_count": 51,
   "id": "7050e277-626f-4999-a463-75c8b8e3a386",
   "metadata": {},
   "outputs": [],
   "source": [
    "co2df = pd.merge(capita, total_country, how = 'left', left_on=['Country', 'Year'], right_on = ['Country', 'Year'])"
   ]
  },
  {
   "cell_type": "code",
   "execution_count": 52,
   "id": "c6687fb6-d60e-4c1c-93de-c85a0e8cb18c",
   "metadata": {},
   "outputs": [
    {
     "data": {
      "text/html": [
       "<div>\n",
       "<style scoped>\n",
       "    .dataframe tbody tr th:only-of-type {\n",
       "        vertical-align: middle;\n",
       "    }\n",
       "\n",
       "    .dataframe tbody tr th {\n",
       "        vertical-align: top;\n",
       "    }\n",
       "\n",
       "    .dataframe thead th {\n",
       "        text-align: right;\n",
       "    }\n",
       "</style>\n",
       "<table border=\"1\" class=\"dataframe\">\n",
       "  <thead>\n",
       "    <tr style=\"text-align: right;\">\n",
       "      <th></th>\n",
       "      <th>Country</th>\n",
       "      <th>Year</th>\n",
       "      <th>Annual CO₂ emissions (per capita)</th>\n",
       "      <th>Annual CO₂ emissions</th>\n",
       "    </tr>\n",
       "  </thead>\n",
       "  <tbody>\n",
       "    <tr>\n",
       "      <th>0</th>\n",
       "      <td>Afghanistan</td>\n",
       "      <td>1949</td>\n",
       "      <td>0.001992</td>\n",
       "      <td>14656.0</td>\n",
       "    </tr>\n",
       "    <tr>\n",
       "      <th>1</th>\n",
       "      <td>Afghanistan</td>\n",
       "      <td>1950</td>\n",
       "      <td>0.011266</td>\n",
       "      <td>84272.0</td>\n",
       "    </tr>\n",
       "    <tr>\n",
       "      <th>2</th>\n",
       "      <td>Afghanistan</td>\n",
       "      <td>1951</td>\n",
       "      <td>0.012098</td>\n",
       "      <td>91600.0</td>\n",
       "    </tr>\n",
       "    <tr>\n",
       "      <th>3</th>\n",
       "      <td>Afghanistan</td>\n",
       "      <td>1952</td>\n",
       "      <td>0.011946</td>\n",
       "      <td>91600.0</td>\n",
       "    </tr>\n",
       "    <tr>\n",
       "      <th>4</th>\n",
       "      <td>Afghanistan</td>\n",
       "      <td>1953</td>\n",
       "      <td>0.013685</td>\n",
       "      <td>106256.0</td>\n",
       "    </tr>\n",
       "  </tbody>\n",
       "</table>\n",
       "</div>"
      ],
      "text/plain": [
       "       Country  Year  Annual CO₂ emissions (per capita)  Annual CO₂ emissions\n",
       "0  Afghanistan  1949                           0.001992               14656.0\n",
       "1  Afghanistan  1950                           0.011266               84272.0\n",
       "2  Afghanistan  1951                           0.012098               91600.0\n",
       "3  Afghanistan  1952                           0.011946               91600.0\n",
       "4  Afghanistan  1953                           0.013685              106256.0"
      ]
     },
     "execution_count": 52,
     "metadata": {},
     "output_type": "execute_result"
    }
   ],
   "source": [
    "co2df.head()"
   ]
  },
  {
   "cell_type": "markdown",
   "id": "befb9748-060f-49a8-b992-02e4a39640df",
   "metadata": {},
   "source": [
    "-- The World Bank datasets have a few contextual fields at the top of the frame that confuse matters. As I read the CSV in, I choose not to bring those rows in.<br>\n",
    "--To start working on the set I changed to \"Country Name\" column to \"Country\" for continuity later."
   ]
  },
  {
   "cell_type": "code",
   "execution_count": 53,
   "id": "7c4c323a-d871-4779-b993-52810aa6a504",
   "metadata": {},
   "outputs": [],
   "source": [
    "gdp = pd.read_csv('/Users/lydia/Projects/PerCapitaCO2Emissions_data_visualization/data/API_NY.GDP.MKTP.CD_DS2_en_csv_v2_26/API_NY.GDP.MKTP.CD_DS2_en_csv_v2_26.csv', skiprows = range(0,3))"
   ]
  },
  {
   "cell_type": "code",
   "execution_count": 54,
   "id": "927f858a-6652-4268-b0c1-8f6e9b1f0e84",
   "metadata": {},
   "outputs": [],
   "source": [
    "gdp.rename(columns={'Country Name':'Country'}, inplace=True)"
   ]
  },
  {
   "cell_type": "markdown",
   "id": "28a890a0-4159-4281-8a8f-0e13fb51a4ad",
   "metadata": {},
   "source": [
    "-- As you can see below, the makeup of the World Bank tables is such that there are singular countries, and many columns for years. Some of the columns are not useful for these purposes, so I don't want to see them. As there are many useful columns and a few less so, I use a list comprehension to iterate and check the column names against a list of unwanted columns, and ultimately return a df of only the desired information. "
   ]
  },
  {
   "cell_type": "code",
   "execution_count": 55,
   "id": "0f2f4c13-3d3e-45ab-a324-585a27039cb6",
   "metadata": {},
   "outputs": [
    {
     "data": {
      "text/html": [
       "<div>\n",
       "<style scoped>\n",
       "    .dataframe tbody tr th:only-of-type {\n",
       "        vertical-align: middle;\n",
       "    }\n",
       "\n",
       "    .dataframe tbody tr th {\n",
       "        vertical-align: top;\n",
       "    }\n",
       "\n",
       "    .dataframe thead th {\n",
       "        text-align: right;\n",
       "    }\n",
       "</style>\n",
       "<table border=\"1\" class=\"dataframe\">\n",
       "  <thead>\n",
       "    <tr style=\"text-align: right;\">\n",
       "      <th></th>\n",
       "      <th>Country</th>\n",
       "      <th>Country Code</th>\n",
       "      <th>Indicator Name</th>\n",
       "      <th>Indicator Code</th>\n",
       "      <th>1960</th>\n",
       "      <th>1961</th>\n",
       "      <th>1962</th>\n",
       "      <th>1963</th>\n",
       "      <th>1964</th>\n",
       "      <th>1965</th>\n",
       "      <th>...</th>\n",
       "      <th>2015</th>\n",
       "      <th>2016</th>\n",
       "      <th>2017</th>\n",
       "      <th>2018</th>\n",
       "      <th>2019</th>\n",
       "      <th>2020</th>\n",
       "      <th>2021</th>\n",
       "      <th>2022</th>\n",
       "      <th>2023</th>\n",
       "      <th>Unnamed: 68</th>\n",
       "    </tr>\n",
       "  </thead>\n",
       "  <tbody>\n",
       "    <tr>\n",
       "      <th>0</th>\n",
       "      <td>Aruba</td>\n",
       "      <td>ABW</td>\n",
       "      <td>GDP (current US$)</td>\n",
       "      <td>NY.GDP.MKTP.CD</td>\n",
       "      <td>NaN</td>\n",
       "      <td>NaN</td>\n",
       "      <td>NaN</td>\n",
       "      <td>NaN</td>\n",
       "      <td>NaN</td>\n",
       "      <td>NaN</td>\n",
       "      <td>...</td>\n",
       "      <td>2.962907e+09</td>\n",
       "      <td>2.983635e+09</td>\n",
       "      <td>3.092429e+09</td>\n",
       "      <td>3.276184e+09</td>\n",
       "      <td>3.395799e+09</td>\n",
       "      <td>2.558906e+09</td>\n",
       "      <td>3.103184e+09</td>\n",
       "      <td>3.544708e+09</td>\n",
       "      <td>NaN</td>\n",
       "      <td>NaN</td>\n",
       "    </tr>\n",
       "    <tr>\n",
       "      <th>1</th>\n",
       "      <td>Africa Eastern and Southern</td>\n",
       "      <td>AFE</td>\n",
       "      <td>GDP (current US$)</td>\n",
       "      <td>NY.GDP.MKTP.CD</td>\n",
       "      <td>1.847810e+10</td>\n",
       "      <td>1.936631e+10</td>\n",
       "      <td>2.050647e+10</td>\n",
       "      <td>2.224273e+10</td>\n",
       "      <td>2.429433e+10</td>\n",
       "      <td>2.661956e+10</td>\n",
       "      <td>...</td>\n",
       "      <td>9.325135e+11</td>\n",
       "      <td>8.900514e+11</td>\n",
       "      <td>1.028394e+12</td>\n",
       "      <td>1.012521e+12</td>\n",
       "      <td>1.006191e+12</td>\n",
       "      <td>9.288802e+11</td>\n",
       "      <td>1.086531e+12</td>\n",
       "      <td>1.185138e+12</td>\n",
       "      <td>NaN</td>\n",
       "      <td>NaN</td>\n",
       "    </tr>\n",
       "    <tr>\n",
       "      <th>2</th>\n",
       "      <td>Afghanistan</td>\n",
       "      <td>AFG</td>\n",
       "      <td>GDP (current US$)</td>\n",
       "      <td>NY.GDP.MKTP.CD</td>\n",
       "      <td>5.377778e+08</td>\n",
       "      <td>5.488889e+08</td>\n",
       "      <td>5.466667e+08</td>\n",
       "      <td>7.511112e+08</td>\n",
       "      <td>8.000000e+08</td>\n",
       "      <td>1.006667e+09</td>\n",
       "      <td>...</td>\n",
       "      <td>1.913422e+10</td>\n",
       "      <td>1.811657e+10</td>\n",
       "      <td>1.875346e+10</td>\n",
       "      <td>1.805322e+10</td>\n",
       "      <td>1.879944e+10</td>\n",
       "      <td>1.995593e+10</td>\n",
       "      <td>1.426650e+10</td>\n",
       "      <td>NaN</td>\n",
       "      <td>NaN</td>\n",
       "      <td>NaN</td>\n",
       "    </tr>\n",
       "    <tr>\n",
       "      <th>3</th>\n",
       "      <td>Africa Western and Central</td>\n",
       "      <td>AFW</td>\n",
       "      <td>GDP (current US$)</td>\n",
       "      <td>NY.GDP.MKTP.CD</td>\n",
       "      <td>1.041165e+10</td>\n",
       "      <td>1.113592e+10</td>\n",
       "      <td>1.195171e+10</td>\n",
       "      <td>1.268581e+10</td>\n",
       "      <td>1.384900e+10</td>\n",
       "      <td>1.487476e+10</td>\n",
       "      <td>...</td>\n",
       "      <td>7.692632e+11</td>\n",
       "      <td>6.921149e+11</td>\n",
       "      <td>6.856303e+11</td>\n",
       "      <td>7.681582e+11</td>\n",
       "      <td>8.234056e+11</td>\n",
       "      <td>7.869624e+11</td>\n",
       "      <td>8.449275e+11</td>\n",
       "      <td>8.753937e+11</td>\n",
       "      <td>NaN</td>\n",
       "      <td>NaN</td>\n",
       "    </tr>\n",
       "    <tr>\n",
       "      <th>4</th>\n",
       "      <td>Angola</td>\n",
       "      <td>AGO</td>\n",
       "      <td>GDP (current US$)</td>\n",
       "      <td>NY.GDP.MKTP.CD</td>\n",
       "      <td>NaN</td>\n",
       "      <td>NaN</td>\n",
       "      <td>NaN</td>\n",
       "      <td>NaN</td>\n",
       "      <td>NaN</td>\n",
       "      <td>NaN</td>\n",
       "      <td>...</td>\n",
       "      <td>9.049642e+10</td>\n",
       "      <td>5.276162e+10</td>\n",
       "      <td>7.369016e+10</td>\n",
       "      <td>7.945069e+10</td>\n",
       "      <td>7.089796e+10</td>\n",
       "      <td>4.850156e+10</td>\n",
       "      <td>6.650513e+10</td>\n",
       "      <td>1.067828e+11</td>\n",
       "      <td>NaN</td>\n",
       "      <td>NaN</td>\n",
       "    </tr>\n",
       "  </tbody>\n",
       "</table>\n",
       "<p>5 rows × 69 columns</p>\n",
       "</div>"
      ],
      "text/plain": [
       "                       Country Country Code     Indicator Name  \\\n",
       "0                        Aruba          ABW  GDP (current US$)   \n",
       "1  Africa Eastern and Southern          AFE  GDP (current US$)   \n",
       "2                  Afghanistan          AFG  GDP (current US$)   \n",
       "3   Africa Western and Central          AFW  GDP (current US$)   \n",
       "4                       Angola          AGO  GDP (current US$)   \n",
       "\n",
       "   Indicator Code          1960          1961          1962          1963  \\\n",
       "0  NY.GDP.MKTP.CD           NaN           NaN           NaN           NaN   \n",
       "1  NY.GDP.MKTP.CD  1.847810e+10  1.936631e+10  2.050647e+10  2.224273e+10   \n",
       "2  NY.GDP.MKTP.CD  5.377778e+08  5.488889e+08  5.466667e+08  7.511112e+08   \n",
       "3  NY.GDP.MKTP.CD  1.041165e+10  1.113592e+10  1.195171e+10  1.268581e+10   \n",
       "4  NY.GDP.MKTP.CD           NaN           NaN           NaN           NaN   \n",
       "\n",
       "           1964          1965  ...          2015          2016          2017  \\\n",
       "0           NaN           NaN  ...  2.962907e+09  2.983635e+09  3.092429e+09   \n",
       "1  2.429433e+10  2.661956e+10  ...  9.325135e+11  8.900514e+11  1.028394e+12   \n",
       "2  8.000000e+08  1.006667e+09  ...  1.913422e+10  1.811657e+10  1.875346e+10   \n",
       "3  1.384900e+10  1.487476e+10  ...  7.692632e+11  6.921149e+11  6.856303e+11   \n",
       "4           NaN           NaN  ...  9.049642e+10  5.276162e+10  7.369016e+10   \n",
       "\n",
       "           2018          2019          2020          2021          2022  2023  \\\n",
       "0  3.276184e+09  3.395799e+09  2.558906e+09  3.103184e+09  3.544708e+09   NaN   \n",
       "1  1.012521e+12  1.006191e+12  9.288802e+11  1.086531e+12  1.185138e+12   NaN   \n",
       "2  1.805322e+10  1.879944e+10  1.995593e+10  1.426650e+10           NaN   NaN   \n",
       "3  7.681582e+11  8.234056e+11  7.869624e+11  8.449275e+11  8.753937e+11   NaN   \n",
       "4  7.945069e+10  7.089796e+10  4.850156e+10  6.650513e+10  1.067828e+11   NaN   \n",
       "\n",
       "   Unnamed: 68  \n",
       "0          NaN  \n",
       "1          NaN  \n",
       "2          NaN  \n",
       "3          NaN  \n",
       "4          NaN  \n",
       "\n",
       "[5 rows x 69 columns]"
      ]
     },
     "execution_count": 55,
     "metadata": {},
     "output_type": "execute_result"
    }
   ],
   "source": [
    "gdp.head()"
   ]
  },
  {
   "cell_type": "code",
   "execution_count": 56,
   "id": "109ec5e4-0d4f-43e9-97d7-794f1f8d213f",
   "metadata": {},
   "outputs": [],
   "source": [
    "gdp.drop(gdp.columns[gdp.columns.str.contains('Unnamed: 68',case = False)], axis = 1, inplace = True)"
   ]
  },
  {
   "cell_type": "code",
   "execution_count": 57,
   "id": "8d5c7e1e-be4f-47b4-bbd3-948c81d5626d",
   "metadata": {},
   "outputs": [],
   "source": [
    "undesired_columns = ['Country Code', 'Indicator Name', 'Indicator Code']\n",
    "gdp = gdp[[i for i in gdp.columns if i not in undesired_columns]]"
   ]
  },
  {
   "cell_type": "markdown",
   "id": "62f07887-2d83-4abf-a187-1b366689b5db",
   "metadata": {},
   "source": [
    "-- Next I pivot the table to have 3 columns instead of 60-some, and make them match to the OWID format. "
   ]
  },
  {
   "cell_type": "code",
   "execution_count": 58,
   "id": "cd795af2-676f-4428-913e-1e2e7d22b2e0",
   "metadata": {},
   "outputs": [],
   "source": [
    "gdp = pd.melt(gdp, id_vars=['Country'],var_name='Year', value_name='GDP')"
   ]
  },
  {
   "cell_type": "code",
   "execution_count": 59,
   "id": "4f41d618-7cf8-4960-b437-b322fbf2a252",
   "metadata": {},
   "outputs": [],
   "source": [
    "gdp = gdp.sort_values(by=['Country', 'Year'])"
   ]
  },
  {
   "cell_type": "code",
   "execution_count": 60,
   "id": "bd588248-444c-4530-9c3a-d1a57a164871",
   "metadata": {},
   "outputs": [
    {
     "data": {
      "text/html": [
       "<div>\n",
       "<style scoped>\n",
       "    .dataframe tbody tr th:only-of-type {\n",
       "        vertical-align: middle;\n",
       "    }\n",
       "\n",
       "    .dataframe tbody tr th {\n",
       "        vertical-align: top;\n",
       "    }\n",
       "\n",
       "    .dataframe thead th {\n",
       "        text-align: right;\n",
       "    }\n",
       "</style>\n",
       "<table border=\"1\" class=\"dataframe\">\n",
       "  <thead>\n",
       "    <tr style=\"text-align: right;\">\n",
       "      <th></th>\n",
       "      <th>Country</th>\n",
       "      <th>Year</th>\n",
       "      <th>GDP</th>\n",
       "    </tr>\n",
       "  </thead>\n",
       "  <tbody>\n",
       "    <tr>\n",
       "      <th>2</th>\n",
       "      <td>Afghanistan</td>\n",
       "      <td>1960</td>\n",
       "      <td>5.377778e+08</td>\n",
       "    </tr>\n",
       "    <tr>\n",
       "      <th>268</th>\n",
       "      <td>Afghanistan</td>\n",
       "      <td>1961</td>\n",
       "      <td>5.488889e+08</td>\n",
       "    </tr>\n",
       "    <tr>\n",
       "      <th>534</th>\n",
       "      <td>Afghanistan</td>\n",
       "      <td>1962</td>\n",
       "      <td>5.466667e+08</td>\n",
       "    </tr>\n",
       "    <tr>\n",
       "      <th>800</th>\n",
       "      <td>Afghanistan</td>\n",
       "      <td>1963</td>\n",
       "      <td>7.511112e+08</td>\n",
       "    </tr>\n",
       "    <tr>\n",
       "      <th>1066</th>\n",
       "      <td>Afghanistan</td>\n",
       "      <td>1964</td>\n",
       "      <td>8.000000e+08</td>\n",
       "    </tr>\n",
       "  </tbody>\n",
       "</table>\n",
       "</div>"
      ],
      "text/plain": [
       "          Country  Year           GDP\n",
       "2     Afghanistan  1960  5.377778e+08\n",
       "268   Afghanistan  1961  5.488889e+08\n",
       "534   Afghanistan  1962  5.466667e+08\n",
       "800   Afghanistan  1963  7.511112e+08\n",
       "1066  Afghanistan  1964  8.000000e+08"
      ]
     },
     "execution_count": 60,
     "metadata": {},
     "output_type": "execute_result"
    }
   ],
   "source": [
    "gdp.head()"
   ]
  },
  {
   "cell_type": "markdown",
   "id": "8a3b4007-a084-4fbc-9749-3d7e1488add8",
   "metadata": {},
   "source": [
    "-- I repeat the process for population"
   ]
  },
  {
   "cell_type": "code",
   "execution_count": 61,
   "id": "375dbec8-4b3c-4bd2-8415-1d420dae8ae6",
   "metadata": {},
   "outputs": [],
   "source": [
    "pop = pd.read_csv('/Users/lydia/Projects/PerCapitaCO2Emissions_data_visualization/data/API_SP.POP.TOTL_DS2_en_csv_v2_84031/API_SP.POP.TOTL_DS2_en_csv_v2_84031.csv', skiprows = range(0,3))"
   ]
  },
  {
   "cell_type": "code",
   "execution_count": 62,
   "id": "478029f8-6069-4469-9fd7-7a2d5445370f",
   "metadata": {},
   "outputs": [],
   "source": [
    "pop.rename(columns={'Country Name':'Country'}, inplace=True)"
   ]
  },
  {
   "cell_type": "code",
   "execution_count": 63,
   "id": "0882528e-17f2-4bdb-9eea-ab8a3d685292",
   "metadata": {},
   "outputs": [],
   "source": [
    "undesired_columns = ['Country Code', 'Indicator Name', 'Indicator Code']\n",
    "pop = pop[[i for i in pop.columns if i not in undesired_columns]]"
   ]
  },
  {
   "cell_type": "code",
   "execution_count": 64,
   "id": "1a5333bd-c3ec-4584-aa88-e4db845a8c27",
   "metadata": {},
   "outputs": [],
   "source": [
    "pop = pd.melt(pop, id_vars=['Country'],var_name='Year', value_name='Population')"
   ]
  },
  {
   "cell_type": "code",
   "execution_count": 65,
   "id": "9277ac0e-90fb-41df-919e-78901f6733f3",
   "metadata": {},
   "outputs": [],
   "source": [
    "pop = pop.sort_values(by=['Country', 'Year'])"
   ]
  },
  {
   "cell_type": "code",
   "execution_count": 66,
   "id": "6dce60d1-3885-4804-b7be-5ff4f24467de",
   "metadata": {},
   "outputs": [
    {
     "data": {
      "text/html": [
       "<div>\n",
       "<style scoped>\n",
       "    .dataframe tbody tr th:only-of-type {\n",
       "        vertical-align: middle;\n",
       "    }\n",
       "\n",
       "    .dataframe tbody tr th {\n",
       "        vertical-align: top;\n",
       "    }\n",
       "\n",
       "    .dataframe thead th {\n",
       "        text-align: right;\n",
       "    }\n",
       "</style>\n",
       "<table border=\"1\" class=\"dataframe\">\n",
       "  <thead>\n",
       "    <tr style=\"text-align: right;\">\n",
       "      <th></th>\n",
       "      <th>Country</th>\n",
       "      <th>Year</th>\n",
       "      <th>Population</th>\n",
       "    </tr>\n",
       "  </thead>\n",
       "  <tbody>\n",
       "    <tr>\n",
       "      <th>2</th>\n",
       "      <td>Afghanistan</td>\n",
       "      <td>1960</td>\n",
       "      <td>8622466.0</td>\n",
       "    </tr>\n",
       "    <tr>\n",
       "      <th>268</th>\n",
       "      <td>Afghanistan</td>\n",
       "      <td>1961</td>\n",
       "      <td>8790140.0</td>\n",
       "    </tr>\n",
       "    <tr>\n",
       "      <th>534</th>\n",
       "      <td>Afghanistan</td>\n",
       "      <td>1962</td>\n",
       "      <td>8969047.0</td>\n",
       "    </tr>\n",
       "    <tr>\n",
       "      <th>800</th>\n",
       "      <td>Afghanistan</td>\n",
       "      <td>1963</td>\n",
       "      <td>9157465.0</td>\n",
       "    </tr>\n",
       "    <tr>\n",
       "      <th>1066</th>\n",
       "      <td>Afghanistan</td>\n",
       "      <td>1964</td>\n",
       "      <td>9355514.0</td>\n",
       "    </tr>\n",
       "  </tbody>\n",
       "</table>\n",
       "</div>"
      ],
      "text/plain": [
       "          Country  Year  Population\n",
       "2     Afghanistan  1960   8622466.0\n",
       "268   Afghanistan  1961   8790140.0\n",
       "534   Afghanistan  1962   8969047.0\n",
       "800   Afghanistan  1963   9157465.0\n",
       "1066  Afghanistan  1964   9355514.0"
      ]
     },
     "execution_count": 66,
     "metadata": {},
     "output_type": "execute_result"
    }
   ],
   "source": [
    "pop.head()"
   ]
  },
  {
   "cell_type": "markdown",
   "id": "d3e2865d-f24a-428d-8d46-47cbd5be40b3",
   "metadata": {},
   "source": [
    "-- Next I merge the 2 World Bank data sets, now showing only the data I need, and in the format of the OWID sets.<br>\n",
    "-- After that I intend to merge the 2 data sets into one, but the datetypes do not all match, so I need to do more cleaning. "
   ]
  },
  {
   "cell_type": "code",
   "execution_count": 67,
   "id": "74052e5b-8d68-4b31-82db-3da0bca4c11a",
   "metadata": {},
   "outputs": [],
   "source": [
    "wbdf = pd.merge(gdp, pop, how = 'left', left_on=['Country', 'Year'], right_on = ['Country', 'Year'])"
   ]
  },
  {
   "cell_type": "code",
   "execution_count": 68,
   "id": "42063794-e9a0-4a42-b3c0-276b3a11984b",
   "metadata": {},
   "outputs": [
    {
     "data": {
      "text/plain": [
       "Country        object\n",
       "Year           object\n",
       "GDP           float64\n",
       "Population    float64\n",
       "dtype: object"
      ]
     },
     "execution_count": 68,
     "metadata": {},
     "output_type": "execute_result"
    }
   ],
   "source": [
    "wbdf.dtypes"
   ]
  },
  {
   "cell_type": "code",
   "execution_count": 69,
   "id": "a2943c46-eb61-4491-ab27-5ff7ec6e135a",
   "metadata": {},
   "outputs": [
    {
     "data": {
      "text/plain": [
       "Country                               object\n",
       "Year                                   int64\n",
       "Annual CO₂ emissions (per capita)    float64\n",
       "Annual CO₂ emissions                 float64\n",
       "dtype: object"
      ]
     },
     "execution_count": 69,
     "metadata": {},
     "output_type": "execute_result"
    }
   ],
   "source": [
    "co2df.dtypes"
   ]
  },
  {
   "cell_type": "code",
   "execution_count": 70,
   "id": "f325a9fc-b15f-44a3-a118-ea53b5f83fa0",
   "metadata": {},
   "outputs": [],
   "source": [
    "wbdf['Year'] = wbdf['Year'].fillna(0)"
   ]
  },
  {
   "cell_type": "code",
   "execution_count": 71,
   "id": "32e31dc4-8630-41e5-a404-a73fd1845916",
   "metadata": {},
   "outputs": [],
   "source": [
    "wbdf['Year'] = wbdf['Year'].astype(int64)"
   ]
  },
  {
   "cell_type": "code",
   "execution_count": 72,
   "id": "e5a0d38e-549d-4f79-a5e1-089c818d12f7",
   "metadata": {},
   "outputs": [],
   "source": [
    "co2df= pd.merge(co2df, wbdf, how = 'left', left_on=['Country', 'Year'], right_on = ['Country', 'Year'])"
   ]
  },
  {
   "cell_type": "code",
   "execution_count": 73,
   "id": "45c2c9a1-4990-46bf-8ee9-09d6b5e742fe",
   "metadata": {},
   "outputs": [],
   "source": [
    "co2df['GDP'] = co2df['GDP'].fillna(0)\n",
    "co2df['Population'] = co2df['Population'].fillna(0)"
   ]
  },
  {
   "cell_type": "markdown",
   "id": "8ec3bd1a-54dc-45ac-8471-fc8a74b29db1",
   "metadata": {},
   "source": [
    "For the purposes of graphing I need to establish a new DataFrame with only the top 20 emissions per capita countries. Then I need numbered indexes for gdp order, population order, and to reindex by the greatest annual co2 emissions per capita."
   ]
  },
  {
   "cell_type": "code",
   "execution_count": 74,
   "id": "a2dcbfb0-98bc-4d1f-95c9-1b9352ac06b8",
   "metadata": {},
   "outputs": [],
   "source": [
    "co2df = co2df[co2df['Year'] == 2022]\n",
    "co2df = co2df[co2df['Population'] > 5000000]\n",
    "co2df = co2df[co2df['Country'] != \"North America\"]"
   ]
  },
  {
   "cell_type": "code",
   "execution_count": 75,
   "id": "99c0c8d6-26a9-4d98-887a-470c68006b7a",
   "metadata": {},
   "outputs": [],
   "source": [
    "co2df = co2df.sort_values(by='Annual CO₂ emissions (per capita)', ascending = False)"
   ]
  },
  {
   "cell_type": "code",
   "execution_count": 76,
   "id": "cbd78456-ed63-44c8-adc7-4cf03a453430",
   "metadata": {},
   "outputs": [],
   "source": [
    "top_twenty = pd.DataFrame(co2df.head(20))"
   ]
  },
  {
   "cell_type": "code",
   "execution_count": null,
   "id": "d30bba83-fed3-4675-9958-a953b901c544",
   "metadata": {},
   "outputs": [],
   "source": [
    "top_twenty = top_twenty.reset_index(drop=True)"
   ]
  },
  {
   "cell_type": "code",
   "execution_count": null,
   "id": "58ba5250-b308-4752-b6d6-d9b5ae857e9b",
   "metadata": {},
   "outputs": [],
   "source": [
    "top_twenty_list = top_twenty['Country'].tolist()"
   ]
  },
  {
   "cell_type": "code",
   "execution_count": null,
   "id": "0b0bbce4-f6ce-4a9b-b498-6e3e27c4cb6b",
   "metadata": {},
   "outputs": [],
   "source": [
    "top_twenty= top_twenty.sort_values(by='GDP')"
   ]
  },
  {
   "cell_type": "code",
   "execution_count": null,
   "id": "25a94096-0b5a-4b42-ac49-5cd03c1b7def",
   "metadata": {},
   "outputs": [],
   "source": [
    "top_twenty['GDP_Order'] = range(1, len(top_twenty)+1)"
   ]
  },
  {
   "cell_type": "code",
   "execution_count": null,
   "id": "04129031-9925-4d23-9ade-27552725676e",
   "metadata": {},
   "outputs": [],
   "source": [
    "top_twenty= top_twenty.sort_values(by='Population')"
   ]
  },
  {
   "cell_type": "code",
   "execution_count": null,
   "id": "e0dd9daf-c2ec-49af-bf05-6fc5efbee5c6",
   "metadata": {},
   "outputs": [],
   "source": [
    "top_twenty['Population_Order'] = range(1, len(top_twenty)+1)"
   ]
  },
  {
   "cell_type": "markdown",
   "id": "f44f128f-3f39-470e-9d46-38312e2e3bf3",
   "metadata": {},
   "source": [
    "The top_twenty dataframe is what I need to start graphing the main page of my visualization."
   ]
  },
  {
   "cell_type": "code",
   "execution_count": null,
   "id": "247d5a43-10b5-463c-a505-f96c769466b8",
   "metadata": {},
   "outputs": [],
   "source": [
    "top_twenty.head(20)"
   ]
  },
  {
   "cell_type": "markdown",
   "id": "d507f5b2-ef05-4f1a-8d8e-c0dccbe962d8",
   "metadata": {},
   "source": [
    "From the top_twenty_list I will need to generate views for twenty years of each of the twenty countries. "
   ]
  },
  {
   "cell_type": "code",
   "execution_count": null,
   "id": "ed79f19c-b680-46e8-b51d-54aa6ba795ca",
   "metadata": {},
   "outputs": [],
   "source": [
    "c_filter = capita[['Country', 'Year', Annual CO2 emissions (per capita)]].loc[capita['Year'] >= 2003]\n",
    "c_filter.replace(' ', '_', regex=True)\n",
    "c_filter = c_filter.sort_values(by='Year')"
   ]
  },
  {
   "cell_type": "code",
   "execution_count": null,
   "id": "e44bdec2-660c-46c5-be59-a0500fbb91e6",
   "metadata": {},
   "outputs": [],
   "source": [
    "c_filter.head()"
   ]
  },
  {
   "cell_type": "code",
   "execution_count": null,
   "id": "4a10dd9d-77d5-48df-940f-565c4ed966e9",
   "metadata": {},
   "outputs": [],
   "source": []
  },
  {
   "cell_type": "raw",
   "id": "5145581b-6a59-49ea-9d6c-88575c735891",
   "metadata": {},
   "source": [
    "def make_filepath():\n",
    "    filepath = Path('folder/subfolder/out.csv')\n",
    "    filepath.parent.mkdir(parents=True, exist_ok=True)\n",
    "    df.to_csv(filepath)"
   ]
  },
  {
   "cell_type": "raw",
   "id": "078ad5a0-c197-4294-8fcf-f5c7ddc30acc",
   "metadata": {},
   "source": [
    "def create_var_name(country_name)->str:\n",
    "    var = ' '\n",
    "    'radar_' + country_name\n",
    "    return var\n",
    "\n",
    "def select_for_country(country_name, df_name):\n",
    "    create_var_name()\n",
    "    var = var[var['Country'] == country_name]\n",
    "    return var\n",
    "\n",
    "def create_df(var):\n",
    "    var = pd.DataFrame(var)\n",
    "    return var\n"
   ]
  },
  {
   "cell_type": "code",
   "execution_count": null,
   "id": "a2f27035-52b5-4407-87c2-b8afe5ee72ec",
   "metadata": {},
   "outputs": [],
   "source": [
    "print(top_twenty_list)"
   ]
  },
  {
   "cell_type": "code",
   "execution_count": null,
   "id": "422cdd82-43ad-4b72-9b14-fbda4c4da55f",
   "metadata": {},
   "outputs": [],
   "source": [
    "radar_United_Arab_Emirates = c_filter[c_filter['Country'] == \"United Arab Emirates\"]\n",
    "radar_United_Arab_Emirates = pd.DataFrame(radar_United_Arab_Emirates)\n",
    "radar_United_Arab_Emirates.head(20)"
   ]
  },
  {
   "cell_type": "code",
   "execution_count": null,
   "id": "2f126946-557d-43a9-ad4a-ae3d6bea4a92",
   "metadata": {},
   "outputs": [],
   "source": []
  }
 ],
 "metadata": {
  "kernelspec": {
   "display_name": "Python 3 (ipykernel)",
   "language": "python",
   "name": "python3"
  },
  "language_info": {
   "codemirror_mode": {
    "name": "ipython",
    "version": 3
   },
   "file_extension": ".py",
   "mimetype": "text/x-python",
   "name": "python",
   "nbconvert_exporter": "python",
   "pygments_lexer": "ipython3",
   "version": "3.12.2"
  }
 },
 "nbformat": 4,
 "nbformat_minor": 5
}
